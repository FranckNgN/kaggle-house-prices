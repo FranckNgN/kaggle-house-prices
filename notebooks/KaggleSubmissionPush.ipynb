{
 "cells": [
  {
   "cell_type": "markdown",
   "id": "ded3b654",
   "metadata": {},
   "source": [
    "kaggle competitions submit -c house-prices-advanced-regression-techniques -f data/sample_submission.csv -m \"Sample submission test\""
   ]
  }
 ],
 "metadata": {
  "language_info": {
   "name": "python"
  }
 },
 "nbformat": 4,
 "nbformat_minor": 5
}
