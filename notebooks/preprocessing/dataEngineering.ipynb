{
 "cells": [
  {
   "cell_type": "markdown",
   "id": "67a5159e",
   "metadata": {},
   "source": [
    "🔹 1. Feature scaling (for linear models / distance-based models)\n",
    "\n",
    "Tree models (RF, XGBoost, LightGBM) don’t need scaling.\n",
    "\n",
    "But if you plan to try Linear Regression, Ridge, Lasso, SVM, KNN →  should scale."
   ]
  },
  {
   "cell_type": "code",
   "execution_count": 1,
   "id": "a66e9a85",
   "metadata": {},
   "outputs": [],
   "source": [
    "# --- Standard imports ---\n",
    "import os, sys\n",
    "import numpy as np\n",
    "import pandas as pd\n",
    "\n",
    "from sklearn.linear_model import LinearRegression\n",
    "from sklearn.metrics import mean_squared_error\n",
    "\n",
    "# --- Local config setup ---\n",
    "local_config_path = os.path.abspath(os.path.join(os.getcwd(), '..', 'config_local'))\n",
    "if local_config_path not in sys.path:\n",
    "    sys.path.insert(0, local_config_path)\n",
    "\n",
    "import local_config  # provides TRAIN_CSV, TEST_CSV, SUBMISSIONS_DIR\n",
    "\n",
    "# --- Load cleaned data (from cleaning.ipynb step) ---\n",
    "train = pd.read_csv(local_config.TRAIN_CSV)   # e.g. data/train_filled.csv\n",
    "test  = pd.read_csv(local_config.TEST_CSV)    # e.g. data/test_filled.csv"
   ]
  },
  {
   "cell_type": "code",
   "execution_count": null,
   "id": "4b63b9b8",
   "metadata": {},
   "outputs": [],
   "source": []
  }
 ],
 "metadata": {
  "kernelspec": {
   "display_name": ".venv",
   "language": "python",
   "name": "python3"
  },
  "language_info": {
   "codemirror_mode": {
    "name": "ipython",
    "version": 3
   },
   "file_extension": ".py",
   "mimetype": "text/x-python",
   "name": "python",
   "nbconvert_exporter": "python",
   "pygments_lexer": "ipython3",
   "version": "3.11.1"
  }
 },
 "nbformat": 4,
 "nbformat_minor": 5
}
