{
 "cells": [
  {
   "cell_type": "code",
   "execution_count": 1,
   "id": "9dc369af",
   "metadata": {},
   "outputs": [],
   "source": [
    "import pandas as pd\n",
    "import config_local.local_config as local_config\n",
    "from pathlib import Path\n",
    "\n",
    "# Load datasets\n",
    "train = pd.read_csv(local_config.TRAIN_OUTLIER_FILLED_LOG1_ENGINEERED_CSV)  # has logSP only\n",
    "test  = pd.read_csv(local_config.TEST_FILLED_CSV)\n",
    "\n",
    "# Target\n",
    "y = train[\"logSP\"]\n",
    "\n",
    "# Features only (drop target)\n",
    "X_train = train.copy() #.drop(columns=[\"logSP\"]) TODO: Carreful, we have to delete logsp before feeding our model\n",
    "X_test  = test.copy()\n",
    "\n",
    "# Concat so dummies align\n",
    "all_X = pd.concat([X_train, X_test], axis=0, ignore_index=True)\n",
    "\n",
    "# One-hot encode categoricals\n",
    "all_X_enc = pd.get_dummies(all_X, drop_first=True, dtype=\"int8\")\n",
    "\n",
    "# Split back into train/test\n",
    "X_train_enc = all_X_enc.iloc[:len(X_train), :].copy()\n",
    "X_test_enc  = all_X_enc.iloc[len(X_train):, :].copy()\n",
    "\n",
    "\n",
    "train_enc = pd.concat([y.reset_index(drop=True), X_train_enc], axis=1)\n",
    "\n",
    "# Save\n",
    "train_enc.to_csv(Path(local_config.TRAIN_OUTLIER_FILLED_LOG1_ENGINEERED_CATENCODED_CSV).resolve().parent / \"train_outlier_filled_log1_Engineered_catEncoded.csv\", index=False)\n",
    "X_test_enc.to_csv(Path(local_config.TEST_FILLED_ENGINEERED_CATENCODED_CSV).resolve().parent / \"test_filled_Engineered_catEncoded.csv\", index=False)"
   ]
  }
 ],
 "metadata": {
  "kernelspec": {
   "display_name": ".venv",
   "language": "python",
   "name": "python3"
  },
  "language_info": {
   "codemirror_mode": {
    "name": "ipython",
    "version": 3
   },
   "file_extension": ".py",
   "mimetype": "text/x-python",
   "name": "python",
   "nbconvert_exporter": "python",
   "pygments_lexer": "ipython3",
   "version": "3.11.1"
  }
 },
 "nbformat": 4,
 "nbformat_minor": 5
}
