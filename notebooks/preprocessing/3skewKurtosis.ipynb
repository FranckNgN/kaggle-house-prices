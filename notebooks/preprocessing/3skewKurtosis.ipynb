{
 "cells": [
  {
   "cell_type": "markdown",
   "id": "642ec171",
   "metadata": {},
   "source": [
    "Looking at the skew and kurtosis of sale price"
   ]
  },
  {
   "cell_type": "code",
   "execution_count": 8,
   "id": "3ff86ad1",
   "metadata": {},
   "outputs": [],
   "source": [
    "from config_local import local_config  # provides TRAIN_CSV, TEST_CSV, SUBMISSIONS_DIR\n",
    "\n",
    "import pandas as pd\n",
    "import numpy as np\n",
    "from scipy.stats import boxcox, skew, kurtosis\n",
    "from sklearn.preprocessing import PowerTransformer, QuantileTransformer\n",
    "\n",
    "import seaborn as sns\n",
    "import matplotlib.pyplot as plt"
   ]
  },
  {
   "cell_type": "code",
   "execution_count": 9,
   "id": "da4b8b04",
   "metadata": {},
   "outputs": [],
   "source": [
    "train = pd.read_csv(local_config.TRAIN_FILLED_CSV)   # e.g. data/train_filled.csv           \n",
    "test = pd.read_csv(local_config.TEST_FILLED_CSV)    # e.g. data/test_filled.csv"
   ]
  },
  {
   "cell_type": "code",
   "execution_count": 10,
   "id": "0a3b86a1",
   "metadata": {},
   "outputs": [
    {
     "data": {
      "application/vnd.microsoft.datawrangler.viewer.v0+json": {
       "columns": [
        {
         "name": "index",
         "rawType": "int64",
         "type": "integer"
        },
        {
         "name": "SalePrice",
         "rawType": "int64",
         "type": "integer"
        },
        {
         "name": "logSP",
         "rawType": "float64",
         "type": "float"
        },
        {
         "name": "SquareRootSP",
         "rawType": "float64",
         "type": "float"
        },
        {
         "name": "BoxCoxSP",
         "rawType": "float64",
         "type": "float"
        },
        {
         "name": "YeoJohnsonSP",
         "rawType": "float64",
         "type": "float"
        },
        {
         "name": "QuantileSP",
         "rawType": "float64",
         "type": "float"
        }
       ],
       "ref": "a4e57146-9dff-4b91-9510-5bbeb476e196",
       "rows": [
        [
         "0",
         "208500",
         "12.24769911637256",
         "456.61800227323494",
         "7.9326078455398426",
         "0.5711545713485939",
         "0.624748089194567"
        ],
        [
         "1",
         "181500",
         "12.109016442313738",
         "426.02816808281585",
         "7.878260760780187",
         "0.22762729637062562",
         "0.31157681224118605"
        ],
        [
         "2",
         "223500",
         "12.317171167298682",
         "472.7578661429125",
         "7.959615408866039",
         "0.7418690062006894",
         "0.7647096737863871"
        ],
        [
         "3",
         "140000",
         "11.849404844423074",
         "374.16573867739413",
         "7.77495206705877",
         "-0.4253859804693617",
         "-0.40880511937045716"
        ],
        [
         "4",
         "250000",
         "12.429220196836383",
         "500.0",
         "8.00287196353941",
         "1.0152930065142103",
         "1.0315087602176443"
        ],
        [
         "5",
         "143000",
         "11.870606902224587",
         "378.15340802378074",
         "7.7834667080208195",
         "-0.3715650081037336",
         "-0.3428228539644613"
        ],
        [
         "6",
         "307000",
         "12.634606283893019",
         "554.0758070878028",
         "8.081199659064756",
         "1.5104008234415809",
         "1.4552006300753204"
        ],
        [
         "7",
         "200000",
         "12.206077645517674",
         "447.21359549995793",
         "7.916358039335681",
         "0.4684397533725912",
         "0.5379803848163829"
        ],
        [
         "8",
         "129900",
         "11.774527900858468",
         "360.416425818802",
         "7.744770482491946",
         "-0.6161635202019565",
         "-0.6784325172268452"
        ],
        [
         "9",
         "118000",
         "11.678448377988165",
         "343.51128074635335",
         "7.705786958787933",
         "-0.8625780383650711",
         "-0.9856104168672697"
        ],
        [
         "10",
         "129500",
         "11.771443882099637",
         "359.86108430893165",
         "7.743523636757709",
         "-0.6240448215190066",
         "-0.6879385303621102"
        ],
        [
         "11",
         "345000",
         "12.75130259456002",
         "587.3670062235366",
         "8.12515565583932",
         "1.7882456079125235",
         "1.7606061816882654"
        ],
        [
         "12",
         "144000",
         "11.87757552297847",
         "379.4733192202055",
         "7.786262240279683",
         "-0.35389447286152087",
         "-0.3163303832842014"
        ],
        [
         "13",
         "279500",
         "12.540761149388421",
         "528.6775955154521",
         "8.04556363362385",
         "1.285146264199134",
         "1.2905442645122753"
        ],
        [
         "14",
         "157000",
         "11.964007453736912",
         "396.23225512317896",
         "7.820810994581945",
         "-0.1355121044885218",
         "-0.08919249600723042"
        ],
        [
         "15",
         "132000",
         "11.790564777297387",
         "363.318042491699",
         "7.7512493052030615",
         "-0.5752109367264603",
         "-0.6226211131134609"
        ],
        [
         "16",
         "149000",
         "11.91170829631447",
         "386.00518131237567",
         "7.799933318168747",
         "-0.26747970903318796",
         "-0.21748829514055446"
        ],
        [
         "17",
         "90000",
         "11.407576060361786",
         "300.0",
         "7.5943184933858365",
         "-1.5671690494868205",
         "-1.5976984220914237"
        ],
        [
         "18",
         "159000",
         "11.976665770490767",
         "398.74804074753774",
         "7.825851545620366",
         "-0.10365082803040382",
         "-0.06025574033725543"
        ],
        [
         "19",
         "139000",
         "11.842236406331555",
         "372.82703764614496",
         "7.772070114914507",
         "-0.4436027753423413",
         "-0.4473052807811118"
        ],
        [
         "20",
         "325300",
         "12.692506186542177",
         "570.3507692639679",
         "8.10305813653694",
         "1.6485677465381743",
         "1.6312112748376684"
        ],
        [
         "21",
         "139400",
         "11.845109950883979",
         "373.3630940518894",
         "7.773225566904136",
         "-0.43629917318422967",
         "-0.436239926210473"
        ],
        [
         "22",
         "230000",
         "12.345838935721968",
         "479.58315233127195",
         "7.970718127315145",
         "0.8120491249244335",
         "0.8409063506463137"
        ],
        [
         "23",
         "129900",
         "11.774527900858468",
         "360.416425818802",
         "7.744770482491946",
         "-0.6161635202019565",
         "-0.6784325172268452"
        ],
        [
         "24",
         "154000",
         "11.944714374881176",
         "392.42833740697165",
         "7.813119028190118",
         "-0.18413295385208736",
         "-0.14224449534329844"
        ],
        [
         "25",
         "256300",
         "12.454107814022272",
         "506.2608023538856",
         "8.012429332837744",
         "1.0757049717962277",
         "1.0863847258400605"
        ],
        [
         "26",
         "134800",
         "11.811554895830454",
         "367.1511950137164",
         "7.759717145633327",
         "-0.5216857891113965",
         "-0.5649457343262145"
        ],
        [
         "27",
         "306000",
         "12.631343648903034",
         "553.1726674375732",
         "8.079965043065098",
         "1.5025968435590031",
         "1.4482582832844195"
        ],
        [
         "28",
         "207500",
         "12.242891437918386",
         "455.52167895721493",
         "7.930733494119524",
         "0.5593068205379095",
         "0.6165409744753192"
        ],
        [
         "29",
         "68500",
         "11.134603622683905",
         "261.72504656604804",
         "7.479610935855584",
         "-2.2922335605042448",
         "-2.1964728246550176"
        ],
        [
         "30",
         "40000",
         "10.596659732783579",
         "200.0",
         "7.246382386901825",
         "-3.766461665922205",
         "-2.8548823772226672"
        ],
        [
         "31",
         "149350",
         "11.914054519303125",
         "386.45827717879195",
         "7.8008717245355434",
         "-0.26154805068446707",
         "-0.21272606047386364"
        ],
        [
         "32",
         "179900",
         "12.100161978566867",
         "424.1462012089699",
         "7.874771134844086",
         "0.20556940840372168",
         "0.26658359262632736"
        ],
        [
         "33",
         "165500",
         "12.016732516077072",
         "406.81691213615983",
         "7.841773834292551",
         "-0.0030061925517089615",
         "0.043924024540264145"
        ],
        [
         "34",
         "277500",
         "12.533579815765737",
         "526.7826876426369",
         "8.04282603813954",
         "1.2678419774848497",
         "1.2772673338861067"
        ],
        [
         "35",
         "309000",
         "12.6410997921206",
         "555.8776843874919",
         "8.083655950180852",
         "1.5259269838232867",
         "1.462242718652444"
        ],
        [
         "36",
         "145000",
         "11.884495917930655",
         "380.7886552931954",
         "7.789036943488714",
         "-0.3363555979461853",
         "-0.287442172763095"
        ],
        [
         "37",
         "153000",
         "11.938199736300925",
         "391.1521443121589",
         "7.810519124520812",
         "-0.20056692147195715",
         "-0.16128127334986397"
        ],
        [
         "38",
         "109000",
         "11.599112335481124",
         "330.15148038438355",
         "7.673379055772088",
         "-1.0674280981295308",
         "-1.2101372641333108"
        ],
        [
         "39",
         "82000",
         "11.314486721293981",
         "286.35642126552705",
         "7.555471191340213",
         "-1.8127223013224503",
         "-1.8803524454038238"
        ],
        [
         "40",
         "160000",
         "11.982935344196433",
         "400.0",
         "7.828346277408121",
         "-0.08788165169624804",
         "-0.03639052269320699"
        ],
        [
         "41",
         "170000",
         "12.04355959836804",
         "412.31056256176606",
         "7.8524073602025615",
         "0.06420822008606608",
         "0.09927374872396857"
        ],
        [
         "42",
         "144000",
         "11.87757552297847",
         "379.4733192202055",
         "7.786262240279683",
         "-0.35389447286152087",
         "-0.3163303832842014"
        ],
        [
         "43",
         "130250",
         "11.777218637129327",
         "360.90164865237176",
         "7.745858085436283",
         "-0.6092887912073924",
         "-0.650419133243749"
        ],
        [
         "44",
         "141000",
         "11.856522261533737",
         "375.4996671103718",
         "7.777811935080848",
         "-0.40730877920433556",
         "-0.38032564176363115"
        ],
        [
         "45",
         "319900",
         "12.675766851909591",
         "565.5970296951708",
         "8.096748673974844",
         "1.608685785677652",
         "1.571053730559314"
        ],
        [
         "46",
         "239686",
         "12.387089184491993",
         "489.57736875799316",
         "7.986651001840477",
         "0.9127605762921245",
         "0.9411715423968372"
        ],
        [
         "47",
         "249700",
         "12.428019481065613",
         "499.69990994595946",
         "8.002410400528646",
         "1.0123754745946683",
         "1.0186697057562448"
        ],
        [
         "48",
         "113000",
         "11.635151947212842",
         "336.1547262794322",
         "7.6881253627902195",
         "-0.9742168285074411",
         "-1.0819397980292533"
        ],
        [
         "49",
         "127000",
         "11.751950239425476",
         "356.37059362410923",
         "7.735635654449388",
         "-0.6739046907126747",
         "-0.7647096737863871"
        ]
       ],
       "shape": {
        "columns": 6,
        "rows": 1460
       }
      },
      "text/html": [
       "<div>\n",
       "<style scoped>\n",
       "    .dataframe tbody tr th:only-of-type {\n",
       "        vertical-align: middle;\n",
       "    }\n",
       "\n",
       "    .dataframe tbody tr th {\n",
       "        vertical-align: top;\n",
       "    }\n",
       "\n",
       "    .dataframe thead th {\n",
       "        text-align: right;\n",
       "    }\n",
       "</style>\n",
       "<table border=\"1\" class=\"dataframe\">\n",
       "  <thead>\n",
       "    <tr style=\"text-align: right;\">\n",
       "      <th></th>\n",
       "      <th>SalePrice</th>\n",
       "      <th>logSP</th>\n",
       "      <th>SquareRootSP</th>\n",
       "      <th>BoxCoxSP</th>\n",
       "      <th>YeoJohnsonSP</th>\n",
       "      <th>QuantileSP</th>\n",
       "    </tr>\n",
       "  </thead>\n",
       "  <tbody>\n",
       "    <tr>\n",
       "      <th>0</th>\n",
       "      <td>208500</td>\n",
       "      <td>12.247699</td>\n",
       "      <td>456.618002</td>\n",
       "      <td>7.932608</td>\n",
       "      <td>0.571155</td>\n",
       "      <td>0.624748</td>\n",
       "    </tr>\n",
       "    <tr>\n",
       "      <th>1</th>\n",
       "      <td>181500</td>\n",
       "      <td>12.109016</td>\n",
       "      <td>426.028168</td>\n",
       "      <td>7.878261</td>\n",
       "      <td>0.227627</td>\n",
       "      <td>0.311577</td>\n",
       "    </tr>\n",
       "    <tr>\n",
       "      <th>2</th>\n",
       "      <td>223500</td>\n",
       "      <td>12.317171</td>\n",
       "      <td>472.757866</td>\n",
       "      <td>7.959615</td>\n",
       "      <td>0.741869</td>\n",
       "      <td>0.764710</td>\n",
       "    </tr>\n",
       "    <tr>\n",
       "      <th>3</th>\n",
       "      <td>140000</td>\n",
       "      <td>11.849405</td>\n",
       "      <td>374.165739</td>\n",
       "      <td>7.774952</td>\n",
       "      <td>-0.425386</td>\n",
       "      <td>-0.408805</td>\n",
       "    </tr>\n",
       "    <tr>\n",
       "      <th>4</th>\n",
       "      <td>250000</td>\n",
       "      <td>12.429220</td>\n",
       "      <td>500.000000</td>\n",
       "      <td>8.002872</td>\n",
       "      <td>1.015293</td>\n",
       "      <td>1.031509</td>\n",
       "    </tr>\n",
       "    <tr>\n",
       "      <th>...</th>\n",
       "      <td>...</td>\n",
       "      <td>...</td>\n",
       "      <td>...</td>\n",
       "      <td>...</td>\n",
       "      <td>...</td>\n",
       "      <td>...</td>\n",
       "    </tr>\n",
       "    <tr>\n",
       "      <th>1455</th>\n",
       "      <td>175000</td>\n",
       "      <td>12.072547</td>\n",
       "      <td>418.330013</td>\n",
       "      <td>7.863873</td>\n",
       "      <td>0.136679</td>\n",
       "      <td>0.175278</td>\n",
       "    </tr>\n",
       "    <tr>\n",
       "      <th>1456</th>\n",
       "      <td>210000</td>\n",
       "      <td>12.254868</td>\n",
       "      <td>458.257569</td>\n",
       "      <td>7.935401</td>\n",
       "      <td>0.588812</td>\n",
       "      <td>0.637923</td>\n",
       "    </tr>\n",
       "    <tr>\n",
       "      <th>1457</th>\n",
       "      <td>266500</td>\n",
       "      <td>12.493133</td>\n",
       "      <td>516.236380</td>\n",
       "      <td>8.027379</td>\n",
       "      <td>1.170202</td>\n",
       "      <td>1.175153</td>\n",
       "    </tr>\n",
       "    <tr>\n",
       "      <th>1458</th>\n",
       "      <td>142125</td>\n",
       "      <td>11.864469</td>\n",
       "      <td>376.994695</td>\n",
       "      <td>7.781003</td>\n",
       "      <td>-0.387136</td>\n",
       "      <td>-0.362719</td>\n",
       "    </tr>\n",
       "    <tr>\n",
       "      <th>1459</th>\n",
       "      <td>147500</td>\n",
       "      <td>11.901590</td>\n",
       "      <td>384.057287</td>\n",
       "      <td>7.795885</td>\n",
       "      <td>-0.293072</td>\n",
       "      <td>-0.242080</td>\n",
       "    </tr>\n",
       "  </tbody>\n",
       "</table>\n",
       "<p>1460 rows × 6 columns</p>\n",
       "</div>"
      ],
      "text/plain": [
       "      SalePrice      logSP  SquareRootSP  BoxCoxSP  YeoJohnsonSP  QuantileSP\n",
       "0        208500  12.247699    456.618002  7.932608      0.571155    0.624748\n",
       "1        181500  12.109016    426.028168  7.878261      0.227627    0.311577\n",
       "2        223500  12.317171    472.757866  7.959615      0.741869    0.764710\n",
       "3        140000  11.849405    374.165739  7.774952     -0.425386   -0.408805\n",
       "4        250000  12.429220    500.000000  8.002872      1.015293    1.031509\n",
       "...         ...        ...           ...       ...           ...         ...\n",
       "1455     175000  12.072547    418.330013  7.863873      0.136679    0.175278\n",
       "1456     210000  12.254868    458.257569  7.935401      0.588812    0.637923\n",
       "1457     266500  12.493133    516.236380  8.027379      1.170202    1.175153\n",
       "1458     142125  11.864469    376.994695  7.781003     -0.387136   -0.362719\n",
       "1459     147500  11.901590    384.057287  7.795885     -0.293072   -0.242080\n",
       "\n",
       "[1460 rows x 6 columns]"
      ]
     },
     "execution_count": 10,
     "metadata": {},
     "output_type": "execute_result"
    }
   ],
   "source": [
    "salePriceReshape = train[\"SalePrice\"].values.reshape(-1, 1)\n",
    "\n",
    "salePrice_df = pd.DataFrame(columns = ['SalePrice', 'logSP', 'SquareRootSP', 'BoxCoxSP', 'YeoJohnsonSP', 'QuantileSP', 'QuantileSP'])\n",
    "transforms = {\n",
    "    \"SalePrice\": lambda x: x.ravel(),\n",
    "    \"logSP\": lambda x: np.log1p(x).ravel(),\n",
    "    \"SquareRootSP\": lambda x: np.sqrt(x).ravel(),\n",
    "    \"BoxCoxSP\": lambda x: boxcox(x.ravel())[0],  # BoxCox returns (vals, lambda)\n",
    "    \"YeoJohnsonSP\": lambda x: PowerTransformer(method=\"yeo-johnson\").fit_transform(x).ravel(),\n",
    "    \"QuantileSP\": lambda x: QuantileTransformer(output_distribution=\"normal\", random_state=0).fit_transform(x).ravel()\n",
    "}\n",
    "salePrice_df = pd.DataFrame({name: func(salePriceReshape) for name, func in transforms.items()})\n",
    "\n",
    "salePrice_df"
   ]
  },
  {
   "cell_type": "code",
   "execution_count": 11,
   "id": "62c76a89",
   "metadata": {},
   "outputs": [
    {
     "data": {
      "image/png": "[encoded data removed]",
      "text/plain": [
       "<Figure size 1600x800 with 6 Axes>"
      ]
     },
     "metadata": {},
     "output_type": "display_data"
    }
   ],
   "source": [
    "def plot_transforms(df):\n",
    "    cols = [\n",
    "        (\"SalePrice\", \"Original SalePrice\"),\n",
    "        (\"logSP\", \"Log1p\"),\n",
    "        (\"SquareRootSP\", \"Square Root\"),\n",
    "        (\"BoxCoxSP\", \"Box-Cox\"),\n",
    "        (\"YeoJohnsonSP\", \"Yeo-Johnson\"),\n",
    "        (\"QuantileSP\", \"Quantile (Normal)\")\n",
    "    ]\n",
    "    \n",
    "    fig, axes = plt.subplots(2, 3, figsize=(16, 8))\n",
    "    axes = axes.ravel()\n",
    "    \n",
    "    for ax, (col, title) in zip(axes, cols):\n",
    "        if col in df.columns:\n",
    "            ax.hist(df[col], bins=40, edgecolor=\"k\", alpha=0.7)\n",
    "            ax.set_title(title)\n",
    "            ax.set_xlabel(col)\n",
    "            ax.set_ylabel('# of Houses')\n",
    "            \n",
    "    plt.tight_layout()\n",
    "    plt.show()\n",
    "\n",
    "# Usage:\n",
    "plot_transforms(salePrice_df)"
   ]
  },
  {
   "cell_type": "code",
   "execution_count": 12,
   "id": "de50cf9c",
   "metadata": {},
   "outputs": [],
   "source": [
    "salePrice_df.to_csv(__import__(\"pathlib\").Path(local_config.TRAIN_CSV).resolve().parent / \"SalePriceTransforms.csv\", index=False)"
   ]
  },
  {
   "cell_type": "code",
   "execution_count": null,
   "id": "f1d834f0",
   "metadata": {},
   "outputs": [],
   "source": [
    "train_outlier_filled_log1 = pd.read_csv(local_config.TRAIN_OUTLIER_FILLED_CSV) \n",
    "train_outlier_filled_log1[\"SalePrice\"] = salePrice_df['logSP']\n",
    "train_outlier_filled_log1.to_csv(__import__(\"pathlib\").Path(local_config.TRAIN_CSV).resolve().parent / \"train_outlier_filled_log1.csv\", index=False)\n"
   ]
  },
  {
   "cell_type": "code",
   "execution_count": null,
   "id": "90304598",
   "metadata": {},
   "outputs": [],
   "source": []
  }
 ],
 "metadata": {
  "kernelspec": {
   "display_name": ".venv",
   "language": "python",
   "name": "python3"
  },
  "language_info": {
   "codemirror_mode": {
    "name": "ipython",
    "version": 3
   },
   "file_extension": ".py",
   "mimetype": "text/x-python",
   "name": "python",
   "nbconvert_exporter": "python",
   "pygments_lexer": "ipython3",
   "version": "3.11.1"
  }
 },
 "nbformat": 4,
 "nbformat_minor": 5
}
