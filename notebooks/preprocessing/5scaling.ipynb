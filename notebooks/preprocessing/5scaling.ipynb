{
 "cells": [
  {
   "cell_type": "code",
   "execution_count": 17,
   "id": "5b17d3d3",
   "metadata": {},
   "outputs": [],
   "source": [
    "import pandas as pd\n",
    "import config_local.local_config as local_config\n",
    "\n",
    "from sklearn.preprocessing import StandardScaler"
   ]
  },
  {
   "cell_type": "code",
   "execution_count": 18,
   "id": "040f4e8f",
   "metadata": {},
   "outputs": [],
   "source": [
    "train = pd.read_csv(local_config.TRAIN_OUTLIER_FILLED_LOG1_ENGINEERED_CSV)\n",
    "test = pd.read_csv(local_config.TEST_FILLED_ENGINEERED_CSV)"
   ]
  },
  {
   "cell_type": "code",
   "execution_count": 19,
   "id": "f16a5c7d",
   "metadata": {},
   "outputs": [],
   "source": [
    "\n",
    "X_train = train.drop(columns=[\"logSP\"]).copy()\n",
    "y = train[\"logSP\"]\n",
    "X_test  = test.copy()\n",
    "\n",
    "scaler = StandardScaler()\n",
    "\n",
    "for col in X_train.columns:\n",
    "    if col == 'MSSubClass':\n",
    "        X_train[col] = scaler.fit_transform(X_train[[\"MSSubClass\"]])"
   ]
  },
  {
   "cell_type": "code",
   "execution_count": 20,
   "id": "b1600de9",
   "metadata": {},
   "outputs": [],
   "source": [
    "X_train.to_csv(local_config.TRAIN_OUTLIER_FILLED_LOG1_ENGINEERED_CATENCODED_SCALED_CSV, index=False)\n"
   ]
  },
  {
   "cell_type": "code",
   "execution_count": null,
   "id": "427d1e3a",
   "metadata": {},
   "outputs": [],
   "source": []
  }
 ],
 "metadata": {
  "kernelspec": {
   "display_name": ".venv",
   "language": "python",
   "name": "python3"
  },
  "language_info": {
   "codemirror_mode": {
    "name": "ipython",
    "version": 3
   },
   "file_extension": ".py",
   "mimetype": "text/x-python",
   "name": "python",
   "nbconvert_exporter": "python",
   "pygments_lexer": "ipython3",
   "version": "3.11.1"
  }
 },
 "nbformat": 4,
 "nbformat_minor": 5
}
