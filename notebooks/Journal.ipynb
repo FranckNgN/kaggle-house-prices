{
 "cells": [
  {
   "cell_type": "markdown",
   "id": "a4aee0d3",
   "metadata": {},
   "source": [
    "mkdir house-prices-starter\n",
    "cd house-prices-starter\n",
    "python -m venv venv\n",
    ".venv\\Scripts\\activate     # On Windows\n",
    "\n",
    "pip install pandas numpy scikit-learn kaggle"
   ]
  },
  {
   "cell_type": "markdown",
   "id": "7e9055f6",
   "metadata": {},
   "source": [
    "mkdir .kaggle\n",
    "# Move the kaggle.json into .kaggle\n",
    "# On Windows:\n",
    "move path\\to\\kaggle.json .kaggle\\kaggle.json\n",
    "\n",
    "# Set environment variable:\n",
    "set KAGGLE_CONFIG_DIR=.kaggle   # Windows\n",
    "# export KAGGLE_CONFIG_DIR=.kaggle   # macOS/Linux"
   ]
  },
  {
   "cell_type": "markdown",
   "id": "5bb75d3f",
   "metadata": {},
   "source": [
    "# Fix Kaggle API 401 Unauthorized (Windows PowerShell)\n",
    "\n",
    "1. **Download API key** from [Kaggle Account](https://www.kaggle.com/account) → Create New API Token → save `kaggle.json`.\n",
    "\n",
    "2. **Place `kaggle.json`** in `.kaggle` folder inside your project, e.g.  \n",
    "`D:\\Project\\Kaggle\\house-prices-starter\\.kaggle\\kaggle.json`\n",
    "\n",
    "3. **Set env variable in PowerShell:**\n",
    "\n",
    "```powershell\n",
    "$env:KAGGLE_CONFIG_DIR = \"D:\\Project\\Kaggle\\house-prices-starter\\.kaggle\""
   ]
  },
  {
   "cell_type": "markdown",
   "id": "95411206",
   "metadata": {},
   "source": [
    "grep -qxF \".kaggle/kaggle.json\" .gitignore || echo \".kaggle/kaggle.json\" >> .gitignore"
   ]
  },
  {
   "cell_type": "markdown",
   "id": "f9ca24e1",
   "metadata": {},
   "source": [
    "kaggle competitions download -c house-prices-advanced-regression-techniques\n",
    "move .\\house-prices-advanced-regression-techniques.zip .\\data\\\n",
    "Remove-Item .\\data\\house-prices-advanced-regression-techniques.zip"
   ]
  },
  {
   "cell_type": "code",
   "execution_count": null,
   "id": "edee0da5",
   "metadata": {
    "vscode": {
     "languageId": "plaintext"
    }
   },
   "outputs": [],
   "source": [
    "# Create folders if missing\n",
    "$folders = @(\"notebooks\", \"scripts\", \"submissions\", \".kaggle\")\n",
    "\n",
    "foreach ($folder in $folders) {\n",
    "    if (-Not (Test-Path $folder)) {\n",
    "        New-Item -ItemType Directory -Path $folder | Out-Null\n",
    "        Write-Host \"Created folder: $folder\"\n",
    "    } else {\n",
    "        Write-Host \"Folder already exists: $folder\"\n",
    "    }\n",
    "}\n",
    "\n",
    "# Create empty files if missing\n",
    "$files = @(\"README.md\", \"requirements.txt\")\n",
    "\n",
    "foreach ($file in $files) {\n",
    "    if (-Not (Test-Path $file)) {\n",
    "        New-Item -ItemType File -Path $file | Out-Null\n",
    "        Write-Host \"Created file: $file\"\n",
    "    } else {\n",
    "        Write-Host \"File already exists: $file\"\n",
    "    }\n",
    "}"
   ]
  }
 ],
 "metadata": {
  "language_info": {
   "name": "python"
  }
 },
 "nbformat": 4,
 "nbformat_minor": 5
}
